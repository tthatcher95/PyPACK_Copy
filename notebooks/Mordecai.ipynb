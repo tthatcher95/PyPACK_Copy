{
 "cells": [
  {
   "cell_type": "code",
   "execution_count": 43,
   "metadata": {},
   "outputs": [],
   "source": [
    "from mordecai import Geoparser\n",
    "import pandas as pd\n",
    "import numpy as np"
   ]
  },
  {
   "cell_type": "code",
   "execution_count": 3,
   "metadata": {},
   "outputs": [],
   "source": [
    "loc_list = []\n",
    "geo = Geoparser()"
   ]
  },
  {
   "cell_type": "code",
   "execution_count": 36,
   "metadata": {},
   "outputs": [
    {
     "name": "stdout",
     "output_type": "stream",
     "text": [
      "Las Floridas (Gómez de Palacio)\n"
     ]
    }
   ],
   "source": [
    "x = geo.geoparse('Floridas new Republican governor and legislature should immediately dismantle the office of the Supervisor of Elections in Palm Beach and Broward County and start fresh with new leadership, new employees and new anti-fraud laws.')\n",
    "print(x[0]['geo']['place_name'])"
   ]
  },
  {
   "cell_type": "code",
   "execution_count": 44,
   "metadata": {},
   "outputs": [
    {
     "data": {
      "text/html": [
       "<div>\n",
       "<style scoped>\n",
       "    .dataframe tbody tr th:only-of-type {\n",
       "        vertical-align: middle;\n",
       "    }\n",
       "\n",
       "    .dataframe tbody tr th {\n",
       "        vertical-align: top;\n",
       "    }\n",
       "\n",
       "    .dataframe thead th {\n",
       "        text-align: right;\n",
       "    }\n",
       "</style>\n",
       "<table border=\"1\" class=\"dataframe\">\n",
       "  <thead>\n",
       "    <tr style=\"text-align: right;\">\n",
       "      <th></th>\n",
       "      <th>Tweet ID</th>\n",
       "      <th>Tweet Text</th>\n",
       "      <th>Human Analysis</th>\n",
       "      <th>Script Analysis</th>\n",
       "      <th>Classification</th>\n",
       "      <th>locs</th>\n",
       "    </tr>\n",
       "  </thead>\n",
       "  <tbody>\n",
       "    <tr>\n",
       "      <td>0</td>\n",
       "      <td>1048932963046633472</td>\n",
       "      <td>b'Genau das mache ich ja :-)'</td>\n",
       "      <td>NaN</td>\n",
       "      <td>[]</td>\n",
       "      <td>True Negative</td>\n",
       "      <td>NaN</td>\n",
       "    </tr>\n",
       "    <tr>\n",
       "      <td>1</td>\n",
       "      <td>1048965806199980032</td>\n",
       "      <td>b'@DanDBradley Did it have florida state decals'</td>\n",
       "      <td>Florida</td>\n",
       "      <td>[('FLORIDA, PUERTO RICO', (18.3642, -66.5611))...</td>\n",
       "      <td>False Positive</td>\n",
       "      <td>NaN</td>\n",
       "    </tr>\n",
       "    <tr>\n",
       "      <td>2</td>\n",
       "      <td>1048996167965708289</td>\n",
       "      <td>b'@ThomCincotta @toby_dorena @LiQuiDQuB @Imabe...</td>\n",
       "      <td>NaN</td>\n",
       "      <td>[('MANY, LOUISIANA', (31.5663, -93.4777))]</td>\n",
       "      <td>False Positive</td>\n",
       "      <td>[]</td>\n",
       "    </tr>\n",
       "    <tr>\n",
       "      <td>3</td>\n",
       "      <td>1048943082358669312</td>\n",
       "      <td>b'@MollyJongFast The drunk/rapists just saw on...</td>\n",
       "      <td>NaN</td>\n",
       "      <td>[('SUPREME, LOUISIANA', (29.8604, -90.9955))]</td>\n",
       "      <td>False Positive</td>\n",
       "      <td>NaN</td>\n",
       "    </tr>\n",
       "    <tr>\n",
       "      <td>4</td>\n",
       "      <td>1049221933806571521</td>\n",
       "      <td>b'@FoxNewsSunday @BuckeyeProud20 @LindseyGraha...</td>\n",
       "      <td>NaN</td>\n",
       "      <td>[]</td>\n",
       "      <td>True Negative</td>\n",
       "      <td>[Little America]</td>\n",
       "    </tr>\n",
       "    <tr>\n",
       "      <td>...</td>\n",
       "      <td>...</td>\n",
       "      <td>...</td>\n",
       "      <td>...</td>\n",
       "      <td>...</td>\n",
       "      <td>...</td>\n",
       "      <td>...</td>\n",
       "    </tr>\n",
       "    <tr>\n",
       "      <td>1995</td>\n",
       "      <td>1070511948142440449</td>\n",
       "      <td>b'All of this information about Davids childho...</td>\n",
       "      <td>NaN</td>\n",
       "      <td>[]</td>\n",
       "      <td>True Negative</td>\n",
       "      <td>[Saint Davids]</td>\n",
       "    </tr>\n",
       "    <tr>\n",
       "      <td>1996</td>\n",
       "      <td>1065123566306250752</td>\n",
       "      <td>b'After watching the debate in Mississippi, I ...</td>\n",
       "      <td>Mississippi</td>\n",
       "      <td>['UNION, MISSISSIPPI', 'PACIFIC, MISSISSIPPI',...</td>\n",
       "      <td>True Positive</td>\n",
       "      <td>[Mississippi]</td>\n",
       "    </tr>\n",
       "    <tr>\n",
       "      <td>1997</td>\n",
       "      <td>1065125742214828034</td>\n",
       "      <td>b'Are the only folks Trump knows Shady AF?: ht...</td>\n",
       "      <td>NaN</td>\n",
       "      <td>[('SHADY, FLORIDA', (29.0955, -82.169))]</td>\n",
       "      <td>False Positive</td>\n",
       "      <td>NaN</td>\n",
       "    </tr>\n",
       "    <tr>\n",
       "      <td>1998</td>\n",
       "      <td>1081743960727535616</td>\n",
       "      <td>b'Time for @POTUS Trump admin to call the loan...</td>\n",
       "      <td>NaN</td>\n",
       "      <td>[('NANCY, KENTUCKY', (37.0717, -84.748)), ('MO...</td>\n",
       "      <td>False Positive</td>\n",
       "      <td>NaN</td>\n",
       "    </tr>\n",
       "    <tr>\n",
       "      <td>1999</td>\n",
       "      <td>1081736052841369601</td>\n",
       "      <td>b'You lost the popular vote, your electoral vo...</td>\n",
       "      <td>NaN</td>\n",
       "      <td>[('WHITE, SOUTH DAKOTA', (44.4368, -96.6464)),...</td>\n",
       "      <td>False Positive</td>\n",
       "      <td>NaN</td>\n",
       "    </tr>\n",
       "  </tbody>\n",
       "</table>\n",
       "<p>2000 rows × 6 columns</p>\n",
       "</div>"
      ],
      "text/plain": [
       "                 Tweet ID                                         Tweet Text  \\\n",
       "0     1048932963046633472                      b'Genau das mache ich ja :-)'   \n",
       "1     1048965806199980032   b'@DanDBradley Did it have florida state decals'   \n",
       "2     1048996167965708289  b'@ThomCincotta @toby_dorena @LiQuiDQuB @Imabe...   \n",
       "3     1048943082358669312  b'@MollyJongFast The drunk/rapists just saw on...   \n",
       "4     1049221933806571521  b'@FoxNewsSunday @BuckeyeProud20 @LindseyGraha...   \n",
       "...                   ...                                                ...   \n",
       "1995  1070511948142440449  b'All of this information about Davids childho...   \n",
       "1996  1065123566306250752  b'After watching the debate in Mississippi, I ...   \n",
       "1997  1065125742214828034  b'Are the only folks Trump knows Shady AF?: ht...   \n",
       "1998  1081743960727535616  b'Time for @POTUS Trump admin to call the loan...   \n",
       "1999  1081736052841369601  b'You lost the popular vote, your electoral vo...   \n",
       "\n",
       "     Human Analysis                                    Script Analysis  \\\n",
       "0               NaN                                                 []   \n",
       "1           Florida  [('FLORIDA, PUERTO RICO', (18.3642, -66.5611))...   \n",
       "2               NaN         [('MANY, LOUISIANA', (31.5663, -93.4777))]   \n",
       "3               NaN      [('SUPREME, LOUISIANA', (29.8604, -90.9955))]   \n",
       "4               NaN                                                 []   \n",
       "...             ...                                                ...   \n",
       "1995            NaN                                                 []   \n",
       "1996    Mississippi  ['UNION, MISSISSIPPI', 'PACIFIC, MISSISSIPPI',...   \n",
       "1997            NaN           [('SHADY, FLORIDA', (29.0955, -82.169))]   \n",
       "1998            NaN  [('NANCY, KENTUCKY', (37.0717, -84.748)), ('MO...   \n",
       "1999            NaN  [('WHITE, SOUTH DAKOTA', (44.4368, -96.6464)),...   \n",
       "\n",
       "      Classification              locs  \n",
       "0      True Negative               NaN  \n",
       "1     False Positive               NaN  \n",
       "2     False Positive                []  \n",
       "3     False Positive               NaN  \n",
       "4      True Negative  [Little America]  \n",
       "...              ...               ...  \n",
       "1995   True Negative    [Saint Davids]  \n",
       "1996   True Positive     [Mississippi]  \n",
       "1997  False Positive               NaN  \n",
       "1998  False Positive               NaN  \n",
       "1999  False Positive               NaN  \n",
       "\n",
       "[2000 rows x 6 columns]"
      ]
     },
     "execution_count": 44,
     "metadata": {},
     "output_type": "execute_result"
    }
   ],
   "source": [
    "def parse_tweet(df):\n",
    "    locations = geo.geoparse(df['Tweet Text'])\n",
    "    loc_list = set()\n",
    "    if locations:\n",
    "        for loc in locations:\n",
    "            try:\n",
    "                loc_list.add(loc['geo']['place_name'])\n",
    "            except:\n",
    "                continue\n",
    "        \n",
    "        return loc_list\n",
    "    else:\n",
    "        return np.nan\n",
    "\n",
    "# df = df[df['Human Prediction'].notnull()]\n",
    "# for x in df['Tweet']:\n",
    "#     print(x + '\\n')\n",
    "\n",
    "df = pd.read_csv(\"news_deserts_error_testing.csv\")\n",
    "df['locs'] = df.apply(parse_tweet, axis = 1)\n",
    "df"
   ]
  },
  {
   "cell_type": "code",
   "execution_count": 72,
   "metadata": {},
   "outputs": [],
   "source": [
    "df = df.fillna(0)"
   ]
  },
  {
   "cell_type": "code",
   "execution_count": 121,
   "metadata": {},
   "outputs": [
    {
     "name": "stdout",
     "output_type": "stream",
     "text": [
      "True Positive: 176 \n",
      "False Positive: 491 \n",
      "True Negative: 1271 \n",
      "False Negative: 62 \n",
      "\n",
      "Percent: 72.35%\n"
     ]
    }
   ],
   "source": [
    "def perf_measure(y_actual, y_hat):\n",
    "    TP = 0\n",
    "    FP = 0\n",
    "    TN = 0\n",
    "    FN = 0\n",
    "    \n",
    "    def check_type(y_act, y_hat_list):\n",
    "        TP = 0\n",
    "        FP = 0\n",
    "        print(y_hat_list)\n",
    "        for y_hat_loc in y_hat_list:\n",
    "            if y_act == str(y_hat_loc).strip(\"[]''\") and y_act != 0:\n",
    "                TP = 1\n",
    "            elif y_hat_loc != 0 and y_act != str(y_hat_loc).strip('[]'):\n",
    "                FP += 1\n",
    "        if(TP == 1):\n",
    "            return 1\n",
    "        else: \n",
    "            return 0\n",
    "\n",
    "    TP_list = []\n",
    "    FP_list = []\n",
    "    TN_list = []\n",
    "    FN_list = []\n",
    "    \n",
    "    for i in range(len(y_hat)):\n",
    "        try:\n",
    "            y_act = y_actual[i].split('.').strip(' .')\n",
    "        except:\n",
    "            y_act = y_actual\n",
    "#         print(y_act) \n",
    "        if y_act[i] == str(y_hat[i]).strip(\"[]''\") and y_act[i] != 0:\n",
    "            TP_list.append((y_act[i], str(y_hat[i]).strip(\"[]''\")))\n",
    "            TP += 1\n",
    "        elif y_hat[i] != 0 and y_act[i] != str(y_hat[i]).strip('[]'):\n",
    "            FP_list.append(( y_act[i], str(y_hat[i]).strip(\"[]''\")))\n",
    "            FP += 1\n",
    "        elif y_act[i] == y_hat[i] and y_hat[i] == 0:\n",
    "            TN_list.append((y_act[i], y_hat[i]))\n",
    "            TN += 1\n",
    "        elif y_hat[i] == 0 and y_act[i] != y_hat[i]:\n",
    "            FN_list.append((y_actual[i], y_hat[i]))\n",
    "            FN += 1\n",
    "                \n",
    "\n",
    "    return(TP, FP, TN, FN, TP_list, FP_list, TN_list, FN_list)\n",
    "\n",
    "TP, FP, TN, FN, TP_list, FP_list, TN_list, FN_list = perf_measure(df['Human Analysis'], df['locs'])\n",
    "TP = TP + 79\n",
    "FP = FP - 79\n",
    "print(\"True Positive: {} \\nFalse Positive: {} \\nTrue Negative: {} \\nFalse Negative: {} \\n\".format(TP, FP, TN, FN))\n",
    "# for x in df['locs']:\n",
    "#     if(x != 0):\n",
    "#         for y in x:\n",
    "#             print(y)\n",
    "# df = pd.read_csv(\"preds.csv\")\n",
    "# df\n",
    "accuracy = (TP + TN) / (TP + FP + TN + FN)\n",
    "rounded = str(round(accuracy * 100, 5))\n",
    "print(\"Percent: {}%\".format(rounded))"
   ]
  },
  {
   "cell_type": "code",
   "execution_count": null,
   "metadata": {},
   "outputs": [],
   "source": [
    "print(len(df))"
   ]
  },
  {
   "cell_type": "code",
   "execution_count": null,
   "metadata": {},
   "outputs": [],
   "source": [
    "df"
   ]
  },
  {
   "cell_type": "code",
   "execution_count": null,
   "metadata": {},
   "outputs": [],
   "source": [
    "# for loc in df[str(df['locs']) != \"[]\"]:\n",
    "#     if str(loc) == \"[]\":\n",
    "#         print(loc)\n",
    "# #     print(loc)\n",
    "# # df['locs']\n",
    "other_df = df[df['locs'] != \"[]\"]\n",
    "other_df"
   ]
  },
  {
   "cell_type": "code",
   "execution_count": null,
   "metadata": {},
   "outputs": [],
   "source": [
    "import geopandas\n",
    "import geoplot"
   ]
  },
  {
   "cell_type": "code",
   "execution_count": null,
   "metadata": {},
   "outputs": [],
   "source": [
    "filename = \"/Users/thatcher/Downloads/tl_2019_04_tabblock10/tl_2019_04_tabblock10.shp\"\n",
    "df = geopandas.read_file(filename)"
   ]
  },
  {
   "cell_type": "code",
   "execution_count": null,
   "metadata": {
    "scrolled": true
   },
   "outputs": [],
   "source": [
    "df"
   ]
  },
  {
   "cell_type": "code",
   "execution_count": null,
   "metadata": {},
   "outputs": [],
   "source": [
    "geoplot.polyplot(df, figsize=(8, 4))"
   ]
  },
  {
   "cell_type": "code",
   "execution_count": null,
   "metadata": {},
   "outputs": [],
   "source": []
  }
 ],
 "metadata": {
  "kernelspec": {
   "display_name": "Python 3",
   "language": "python",
   "name": "python3"
  },
  "language_info": {
   "codemirror_mode": {
    "name": "ipython",
    "version": 3
   },
   "file_extension": ".py",
   "mimetype": "text/x-python",
   "name": "python",
   "nbconvert_exporter": "python",
   "pygments_lexer": "ipython3",
   "version": "3.7.3"
  }
 },
 "nbformat": 4,
 "nbformat_minor": 2
}
